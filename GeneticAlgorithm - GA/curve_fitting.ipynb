{
 "cells": [
  {
   "cell_type": "markdown",
   "metadata": {},
   "source": [
    "# Overview"
   ]
  },
  {
   "cell_type": "markdown",
   "metadata": {},
   "source": [
    "In this notebook we tried to find a sufficent enough solution for the **Curve-Fitting** problem using genetic or memtic algorithems. \n",
    "Here we describe shortly the following concepts in a genetic algorithems that we used in this notebook\n",
    "\n",
    "### 1. Gene\n",
    "We used an array of real values in range [0, 1] to mimic the coefficents of the polynomial.\n",
    "\n",
    "### 2. Initial population\n",
    "We used random values uniformly distributed in range [0, 1] for each coefficent\n",
    "\n",
    "### 3. Fitness finction\n",
    "There are various ways to define a fitness function for this problem like ***MSE*** or ***MAE***, here we decided to use ***MSE***.\n",
    "\n",
    "$ MSE(gene) = \\sqrt{\\sum_{1}^{n}(\\hat{y} - y)^2} $\n",
    "\n",
    "### 4. Mutation\n",
    "The mutation is simply changing each coefficient to a random number in range [0, 1] if the random probability fits the alpha parameter.\n",
    "\n",
    "### 5. crossover\n",
    "The crossover is some kind of weghited sum of both parents, with their weight distribution being a random number `w` which gives more exploration ability to the algorithem.\n",
    "\n",
    "### 6. Local search\n",
    "The local seach is run for `20` iterations and it simply searches near every coefficent by adding a noise to it around [-0.1, +0.1] of its original and picks the best answer.\n",
    "\n",
    "### 7. Other\n",
    "The other parts that are of less importance are shown using comments in the code like the selection method or recombination."
   ]
  },
  {
   "cell_type": "markdown",
   "metadata": {},
   "source": [
    "# Setup"
   ]
  },
  {
   "cell_type": "code",
   "execution_count": 44,
   "metadata": {},
   "outputs": [],
   "source": [
    "import random\n",
    "import numpy as np\n",
    "import pandas as pd\n",
    "import math"
   ]
  },
  {
   "cell_type": "markdown",
   "metadata": {},
   "source": [
    "# Import Data"
   ]
  },
  {
   "cell_type": "code",
   "execution_count": 2,
   "metadata": {},
   "outputs": [],
   "source": [
    "tstcase = pd.read_csv(\"CurveFitting-Tests/CurveFitting_test1.txt\")\n",
    "n = int(tstcase.iloc[0, 0])\n",
    "s, e = map(int, tstcase.iloc[1, 0].split())\n",
    "m = int(tstcase.iloc[2, 0])\n",
    "points = []\n",
    "for i in range(m) : \n",
    "    pt = list(map(float, tstcase.iloc[3 + i, 0].split()))\n",
    "    points.append(pt)"
   ]
  },
  {
   "cell_type": "code",
   "execution_count": 3,
   "metadata": {},
   "outputs": [],
   "source": [
    "def testcase(id) : \n",
    "    tstcase = pd.read_csv(\"CurveFitting-Tests/CurveFitting_test\" + str(id) + \".txt\")\n",
    "    n = int(tstcase.iloc[0, 0])\n",
    "    s, e = map(int, tstcase.iloc[1, 0].split())\n",
    "    m = int(tstcase.iloc[2, 0])\n",
    "    points = []\n",
    "    for i in range(m) : \n",
    "        pt = list(map(float, tstcase.iloc[3 + i, 0].split()))\n",
    "        points.append(pt)\n",
    "\n",
    "    return n, s, e, m, points"
   ]
  },
  {
   "cell_type": "markdown",
   "metadata": {},
   "source": [
    "# Gene"
   ]
  },
  {
   "cell_type": "code",
   "execution_count": 53,
   "metadata": {},
   "outputs": [],
   "source": [
    "class Gene() : \n",
    "\n",
    "    def __init__(self, n, s, e, pts) : \n",
    "        self.n = n\n",
    "        self.s = s\n",
    "        self.e = e\n",
    "        self.points = pts\n",
    "\n",
    "        self.poly = [random.uniform(self.s, self.e) for i in range(self.n)]\n",
    "        self.fitness = self.cal_fitness()\n",
    "\n",
    "    def calc(self, x) : \n",
    "        res = 0\n",
    "        for i in range(self.n) :\n",
    "            res += self.poly[i] * (x**i)\n",
    "        \n",
    "        return res\n",
    "\n",
    "    def dist(self, pt) : \n",
    "        return (self.calc(pt[0]) - pt[1])**2\n",
    "\n",
    "    def cal_fitness(self) : \n",
    "        fit = 0\n",
    "        for pt in self.points :\n",
    "            fit += self.dist(pt)\n",
    "        \n",
    "        self.fitness = math.sqrt(fit)\n",
    "        return self.fitness\n",
    "\n",
    "    def mutation(self, alpha = 0.15) : \n",
    "        for i in range(self.n) :\n",
    "            p = random.random()\n",
    "            if(p > alpha) : \n",
    "                continue\n",
    "            \n",
    "            self.poly[i] = random.uniform(self.s, self.e)\n",
    "        \n",
    "        self.cal_fitness()\n",
    "\n",
    "    def local_search(self, iter = 20) : \n",
    "        for _ in range(iter) : \n",
    "            temp = Gene(self.n, self.s, self.e, self.points)\n",
    "            temp.poly = self.poly.copy()\n",
    "\n",
    "            noise = random.random() - 0.5\n",
    "            for i in range(self.n) : \n",
    "                temp.poly[i] += temp.poly[i] * noise * 0.2\n",
    "            \n",
    "            temp.cal_fitness()\n",
    "            if(temp.fitness > self.fitness) : \n",
    "                self.poly = temp.poly\n",
    "                self.fitness = temp.fitness\n",
    "                "
   ]
  },
  {
   "cell_type": "markdown",
   "metadata": {},
   "source": [
    "# Crossover"
   ]
  },
  {
   "cell_type": "code",
   "execution_count": 46,
   "metadata": {},
   "outputs": [],
   "source": [
    "def crossover(par1 : Gene, par2 : Gene, itr = 5) -> Gene : \n",
    "    bst_child = Gene(par1.n, par1.s, par1.e, points)\n",
    "    bst_child.fitness = 0\n",
    "\n",
    "    for _ in range(itr) : \n",
    "        child = Gene(par1.n, par1.s, par1.e, points)\n",
    "        for i in range(par1.n) :\n",
    "            w = random.random()\n",
    "            child.poly[i] = w * par1.poly[i] + (1 - w) * par2.poly[i]\n",
    "            \n",
    "        child.cal_fitness()\n",
    "        if(bst_child.fitness < child.fitness) :\n",
    "            bst_child = child\n",
    "    \n",
    "    return bst_child"
   ]
  },
  {
   "cell_type": "markdown",
   "metadata": {},
   "source": [
    "# Genetic Algorithem"
   ]
  },
  {
   "cell_type": "code",
   "execution_count": 39,
   "metadata": {},
   "outputs": [],
   "source": [
    "def genetic_algorithem(iterations, pop_size, n, s, e, points, alpha = 0.2, is_memtic = False) :\n",
    "    # alpha = 1/n\n",
    "\n",
    "    # first population\n",
    "    # --------------------------------\n",
    "    population = [Gene(n, s, e, points) for _ in range(pop_size)]\n",
    "    population.sort(key = lambda x : x.fitness, reverse = False)\n",
    "    # --------------------------------\n",
    "\n",
    "    for _ in range(iterations) :\n",
    "        children = []\n",
    "\n",
    "        # selection\n",
    "        # --------------------------------\n",
    "        for __ in range(pop_size // 2) : \n",
    "            parents = random.choices(population, k = 2, weights = [1/(gene.fitness+1) for gene in population])\n",
    "\n",
    "            # parents = random.choices(population, k = 3, weights = [1 for i in range(len(population))])\n",
    "            # parents.sort(key = lambda x : x.fitness, reverse = False)\n",
    "            # parents = parents[:2]\n",
    "            # parents = random.choices(population, k = 2, weights = [(pop_size - i)/(pop_size*(pop_size + 1)/2) for i in range(pop_size)])\n",
    "\n",
    "            # crossover\n",
    "            # --------------------------------\n",
    "            child = crossover(*parents)\n",
    "            # --------------------------------\n",
    "\n",
    "            # mutation\n",
    "            # --------------------------------\n",
    "            child.mutation(alpha)\n",
    "            # --------------------------------\n",
    "\n",
    "            children.append(child)    \n",
    "        # --------------------------------\n",
    "\n",
    "        # local search (Memtic Algorithem)\n",
    "        # --------------------------------\n",
    "        if is_memtic : \n",
    "            for i in range(len(children) // 2) : \n",
    "                children[i].local_search()\n",
    "        # --------------------------------\n",
    "\n",
    "        # replacement\n",
    "        # --------------------------------\n",
    "        population = population + children\n",
    "        population.sort(key = lambda x : x.fitness, reverse = False)\n",
    "        population = population[:pop_size]\n",
    "        # --------------------------------\n",
    "\n",
    "        if(_ % 50 == 0) : \n",
    "            print('best_fitness:' , population[0].fitness)\n",
    "\n",
    "        # exit strategy\n",
    "        # --------------------------------\n",
    "\n",
    "        # --------------------------------\n",
    "    \n",
    "    return population[0]"
   ]
  },
  {
   "cell_type": "markdown",
   "metadata": {},
   "source": [
    "# Plot solution"
   ]
  },
  {
   "cell_type": "code",
   "execution_count": 40,
   "metadata": {},
   "outputs": [],
   "source": [
    "from matplotlib import pyplot as plt"
   ]
  },
  {
   "cell_type": "code",
   "execution_count": 41,
   "metadata": {},
   "outputs": [],
   "source": [
    "def draw_solution(gene, points) : \n",
    "    X = []\n",
    "    Y = []\n",
    "    for i in range(m) : \n",
    "        X.append(points[i][0])\n",
    "        Y.append(points[i][1])\n",
    "\n",
    "    x = np.linspace(min(X) - 1, max(X) + 1, 100)\n",
    "    plt.plot(x, gene.calc(x), color = 'blue')\n",
    "\n",
    "    plt.plot(X, Y, 'ro')\n",
    "    plt.show()"
   ]
  },
  {
   "cell_type": "markdown",
   "metadata": {},
   "source": [
    "# Testcase #1"
   ]
  },
  {
   "cell_type": "code",
   "execution_count": 42,
   "metadata": {},
   "outputs": [],
   "source": [
    "n, s, e, m, points = testcase(1)"
   ]
  },
  {
   "cell_type": "code",
   "execution_count": 50,
   "metadata": {},
   "outputs": [
    {
     "name": "stdout",
     "output_type": "stream",
     "text": [
      "best_fitness: 39164145317.512146\n",
      "best_fitness: 1808932626.5704978\n",
      "best_fitness: 409817563.23133844\n",
      "best_fitness: 144853230.40953356\n",
      "best_fitness: 131363532.10578966\n",
      "best_fitness: 131363532.10578966\n",
      "best_fitness: 131363532.10578966\n",
      "best_fitness: 131363532.10578966\n",
      "best_fitness: 131363532.10578966\n",
      "best_fitness: 131363532.10578966\n",
      "best_fitness: 131363532.10578966\n"
     ]
    },
    {
     "data": {
      "image/png": "[encoded data removed]",
      "text/plain": [
       "<Figure size 640x480 with 1 Axes>"
      ]
     },
     "metadata": {},
     "output_type": "display_data"
    }
   ],
   "source": [
    "sol = genetic_algorithem(501, 100, n, s, e, points, is_memtic= True)\n",
    "draw_solution(sol, points)"
   ]
  },
  {
   "cell_type": "markdown",
   "metadata": {},
   "source": [
    "# Testcase #2"
   ]
  },
  {
   "cell_type": "code",
   "execution_count": 51,
   "metadata": {},
   "outputs": [],
   "source": [
    "n, s, e, m, points = testcase(2)"
   ]
  },
  {
   "cell_type": "code",
   "execution_count": 52,
   "metadata": {},
   "outputs": [
    {
     "name": "stdout",
     "output_type": "stream",
     "text": [
      "best_fitness: 9991515427500.26\n",
      "best_fitness: 418778890282.30396\n",
      "best_fitness: 353594726538.70105\n",
      "best_fitness: 351532740101.6754\n",
      "best_fitness: 350245340663.3252\n",
      "best_fitness: 350245340663.3252\n",
      "best_fitness: 350245340663.3252\n",
      "best_fitness: 350245340663.3252\n",
      "best_fitness: 350245340663.3252\n",
      "best_fitness: 350245340663.3252\n",
      "best_fitness: 349359930113.1514\n"
     ]
    },
    {
     "data": {
      "image/png": "[encoded data removed]",
      "text/plain": [
       "<Figure size 640x480 with 1 Axes>"
      ]
     },
     "metadata": {},
     "output_type": "display_data"
    }
   ],
   "source": [
    "sol2 = genetic_algorithem(501, 100, n, s, e, points, is_memtic= True)\n",
    "draw_solution(sol2, points)"
   ]
  },
  {
   "cell_type": "markdown",
   "metadata": {},
   "source": [
    "# Testcase #3"
   ]
  },
  {
   "cell_type": "code",
   "execution_count": 54,
   "metadata": {},
   "outputs": [],
   "source": [
    "n, s, e, m, points = testcase(3)"
   ]
  },
  {
   "cell_type": "code",
   "execution_count": 55,
   "metadata": {},
   "outputs": [
    {
     "name": "stdout",
     "output_type": "stream",
     "text": [
      "best_fitness: 4.1455575372674274e+32\n",
      "best_fitness: 8.815767444330794e+30\n",
      "best_fitness: 8.418704228159878e+30\n",
      "best_fitness: 8.418704228159878e+30\n",
      "best_fitness: 8.418704228159878e+30\n",
      "best_fitness: 8.418704228159878e+30\n",
      "best_fitness: 8.418704228159878e+30\n",
      "best_fitness: 8.418704228159878e+30\n",
      "best_fitness: 8.418704228159878e+30\n",
      "best_fitness: 8.401604193586916e+30\n",
      "best_fitness: 8.401604193586916e+30\n"
     ]
    },
    {
     "data": {
      "image/png": "[encoded data removed]",
      "text/plain": [
       "<Figure size 640x480 with 1 Axes>"
      ]
     },
     "metadata": {},
     "output_type": "display_data"
    }
   ],
   "source": [
    "sol3 = genetic_algorithem(501, 100, n, s, e, points, is_memtic= True)\n",
    "draw_solution(sol3, points)"
   ]
  },
  {
   "cell_type": "markdown",
   "metadata": {},
   "source": [
    "# Testcase #4"
   ]
  },
  {
   "cell_type": "code",
   "execution_count": 56,
   "metadata": {},
   "outputs": [],
   "source": [
    "n, s, e, m, points = testcase(4)"
   ]
  },
  {
   "cell_type": "code",
   "execution_count": 58,
   "metadata": {},
   "outputs": [
    {
     "name": "stdout",
     "output_type": "stream",
     "text": [
      "best_fitness: 196562286.09913516\n",
      "best_fitness: 37972510.0070394\n",
      "best_fitness: 6493932.96441194\n",
      "best_fitness: 4015197.8197474605\n",
      "best_fitness: 3512343.3647045973\n",
      "best_fitness: 3318976.9074865836\n",
      "best_fitness: 3286729.6072279606\n",
      "best_fitness: 3159866.051827037\n",
      "best_fitness: 3140237.1542651495\n",
      "best_fitness: 3135924.9581477945\n",
      "best_fitness: 3132134.1720241867\n"
     ]
    },
    {
     "data": {
      "image/png": "[encoded data removed]",
      "text/plain": [
       "<Figure size 640x480 with 1 Axes>"
      ]
     },
     "metadata": {},
     "output_type": "display_data"
    }
   ],
   "source": [
    "sol4 = genetic_algorithem(501, 100, n, s, e, points, is_memtic= True)\n",
    "draw_solution(sol4, points)"
   ]
  },
  {
   "cell_type": "code",
   "execution_count": null,
   "metadata": {},
   "outputs": [],
   "source": []
  }
 ],
 "metadata": {
  "kernelspec": {
   "display_name": "Python 3.12.1 ('myenv')",
   "language": "python",
   "name": "python3"
  },
  "language_info": {
   "codemirror_mode": {
    "name": "ipython",
    "version": 3
   },
   "file_extension": ".py",
   "mimetype": "text/x-python",
   "name": "python",
   "nbconvert_exporter": "python",
   "pygments_lexer": "ipython3",
   "version": "3.12.1"
  },
  "orig_nbformat": 4,
  "vscode": {
   "interpreter": {
    "hash": "83a46f7ac1e0a48e994e4fedf3ba0b4c5e59e99804205b5e90dc906080dee875"
   }
  }
 },
 "nbformat": 4,
 "nbformat_minor": 2
}
