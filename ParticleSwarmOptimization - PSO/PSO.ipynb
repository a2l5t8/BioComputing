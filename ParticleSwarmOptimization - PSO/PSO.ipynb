{
 "cells": [
  {
   "cell_type": "markdown",
   "metadata": {},
   "source": [
    "# Idea behind the Algorithm"
   ]
  },
  {
   "cell_type": "markdown",
   "metadata": {},
   "source": [
    "In this notebook we implemented **PSO Algorithm** to find the minimum or maximum of two-variable functions $f(x, y)$ and $g(x, y)$. There are not much creativity to share about this algorithm due to its meta heuristic nature. The only considerable point to mention is to use `MIN` and `MAX` to keep the particles in the desired zone and also **hyperparameter** tuning which was done manually."
   ]
  },
  {
   "cell_type": "markdown",
   "metadata": {},
   "source": [
    "# Setup"
   ]
  },
  {
   "cell_type": "code",
   "execution_count": 34,
   "metadata": {},
   "outputs": [],
   "source": [
    "import random\n",
    "import numpy as np\n",
    "import pandas as pd\n",
    "from matplotlib import pyplot as plt\n",
    "import copy"
   ]
  },
  {
   "cell_type": "markdown",
   "metadata": {},
   "source": [
    "# Define target functions"
   ]
  },
  {
   "cell_type": "code",
   "execution_count": 31,
   "metadata": {},
   "outputs": [],
   "source": [
    "def f(x, y) : \n",
    "    return -abs(np.sin(x) * np.cos(y) * np.exp(abs(1 - np.sqrt(x**2 + y**2)/np.pi)))"
   ]
  },
  {
   "cell_type": "code",
   "execution_count": 9,
   "metadata": {},
   "outputs": [],
   "source": [
    "def g(x, y) : \n",
    "    return (x*sin(np.pi * np.cos(x) * np.tan(y)) * np.sin(y/x))/(1 + np.cos(y/x))"
   ]
  },
  {
   "cell_type": "markdown",
   "metadata": {},
   "source": [
    "# Particle"
   ]
  },
  {
   "cell_type": "code",
   "execution_count": 29,
   "metadata": {},
   "outputs": [],
   "source": [
    "class Particle() : \n",
    "\n",
    "    def __init__(self, dim, MIN, MAX, fitness) : \n",
    "        self.dim = dim\n",
    "        self.MIN = MIN\n",
    "        self.MAX = MAX\n",
    "        self.fit_function = fitness\n",
    "\n",
    "        self.pos = [random.uniform(self.MIN, self.MAX) for i in range(self.dim)]\n",
    "        self.vel = [random.uniform(self.MIN, self.MAX) for i in range(self.dim)]\n",
    "\n",
    "        self.fitness = self.fit_function(self.pos[0], self.pos[1])\n",
    "\n",
    "        self.bst_pos = self.pos.copy()\n",
    "        self.bst_fitness = self.fitness"
   ]
  },
  {
   "cell_type": "markdown",
   "metadata": {},
   "source": [
    "# PSO"
   ]
  },
  {
   "cell_type": "code",
   "execution_count": 85,
   "metadata": {},
   "outputs": [],
   "source": [
    "def PSO(target, intertia_coef = 0.3, cog_coef = 1, soci_coef = 0.9 , iterations = 1000, population_size = 500, MIN = -10, MAX = +10, dim = 2) : \n",
    "    swarm = [Particle(dim, MIN, MAX, target) for i in range(population_size)]\n",
    "\n",
    "    bst_particle = copy.copy(swarm[0])\n",
    "    for i in range(population_size) :\n",
    "        if(swarm[i].fitness < bst_particle.fitness) : \n",
    "            bst_particle = copy.copy(swarm[i])\n",
    "\n",
    "    for _ in range(iterations) : \n",
    "        for i in range(population_size) :\n",
    "\n",
    "            for d in range(dim) : \n",
    "                r1 = random.random()\n",
    "                r2 = random.random()\n",
    "\n",
    "                swarm[i].vel[d] = ( \n",
    "                                 (intertia_coef * swarm[i].vel[d]) +\n",
    "                                 (cog_coef * r1 * (swarm[i].bst_pos[d] - swarm[i].pos[d])) + \n",
    "                                 (soci_coef * r2 * (bst_particle.pos[d] - swarm[i].pos[d])) \n",
    "                               )  \n",
    "            \n",
    "            for d in range(dim) : \n",
    "                swarm[i].vel[d] += swarm[i].vel[d]\n",
    "\n",
    "                swarm[i].pos[d] = max(swarm[i].pos[d], MIN)\n",
    "                swarm[i].pos[d] = min(swarm[i].pos[d], MAX)\n",
    "\n",
    "            swarm[i].fitness = swarm[i].fit_function(swarm[i].pos[0], swarm[i].pos[1])\n",
    "\n",
    "            if(swarm[i].fitness < swarm[i].bst_fitness) : \n",
    "                swarm[i].bst_fitness = swarm[i].fitness\n",
    "                swarm[i].bst_pos = swarm[i].pos.copy()\n",
    "\n",
    "            if(swarm[i].fitness < bst_particle.fitness) : \n",
    "                bst_particle = copy.copy(swarm[i])\n",
    "    \n",
    "    return bst_particle"
   ]
  },
  {
   "cell_type": "markdown",
   "metadata": {},
   "source": [
    "# Maximaze $f(x, y)$"
   ]
  },
  {
   "cell_type": "code",
   "execution_count": 83,
   "metadata": {},
   "outputs": [
    {
     "name": "stdout",
     "output_type": "stream",
     "text": [
      "19.2049557920611\n"
     ]
    }
   ],
   "source": [
    "sol = None\n",
    "while(True) : \n",
    "    res = PSO(target = f)\n",
    "    if(abs(res.fitness) > 19.2) :\n",
    "        sol = res\n",
    "        break\n",
    "    \n",
    "\n",
    "print(abs(sol.fitness))"
   ]
  },
  {
   "cell_type": "markdown",
   "metadata": {},
   "source": [
    "# Minimize $g(x, y)$"
   ]
  },
  {
   "cell_type": "code",
   "execution_count": 86,
   "metadata": {},
   "outputs": [
    {
     "name": "stdout",
     "output_type": "stream",
     "text": [
      "-1.4739965692541862e+18\n",
      "[-92.84881558965917, 97.73670497143831]\n"
     ]
    }
   ],
   "source": [
    "sol = None\n",
    "while(True) : \n",
    "    res = PSO(target = f, MIN = -100, MAX = +100)\n",
    "    if(res.fitness < -1.7*1e6) :\n",
    "        sol = res\n",
    "        break\n",
    "    \n",
    "\n",
    "print(sol.fitness)\n",
    "print(sol.pos)"
   ]
  }
 ],
 "metadata": {
  "kernelspec": {
   "display_name": "myenv",
   "language": "python",
   "name": "python3"
  },
  "language_info": {
   "codemirror_mode": {
    "name": "ipython",
    "version": 3
   },
   "file_extension": ".py",
   "mimetype": "text/x-python",
   "name": "python",
   "nbconvert_exporter": "python",
   "pygments_lexer": "ipython3",
   "version": "3.12.1"
  }
 },
 "nbformat": 4,
 "nbformat_minor": 2
}
