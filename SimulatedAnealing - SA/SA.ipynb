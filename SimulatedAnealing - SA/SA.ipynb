{
 "cells": [
  {
   "cell_type": "markdown",
   "metadata": {},
   "source": [
    "# Idea behind the Algorithm"
   ]
  },
  {
   "cell_type": "markdown",
   "metadata": {},
   "source": [
    "All the parts are somewhat straight forward and does not need an explaination due to the generalization of **SA algorithm**, the main difference in using this algorithm for different problems is in `purturbation` function. Here in **QAP**, where the solution is in the form of a **permutation**, **neighbors** of a permutation can be considered the permutations that can be obtained from the base by swapping two elements. `perturbation` function chooses two random index and swaps them to make a new neighboring solution as the rest is the same for all SA-based searches"
   ]
  },
  {
   "cell_type": "markdown",
   "metadata": {},
   "source": [
    "# Setup"
   ]
  },
  {
   "cell_type": "code",
   "execution_count": 1,
   "metadata": {},
   "outputs": [],
   "source": [
    "import random\n",
    "import numpy as np\n",
    "import pandas as pd\n",
    "from matplotlib import pyplot as plt"
   ]
  },
  {
   "cell_type": "markdown",
   "metadata": {},
   "source": [
    "# Loading Data"
   ]
  },
  {
   "cell_type": "code",
   "execution_count": 2,
   "metadata": {},
   "outputs": [],
   "source": [
    "def load_data(filename) :\n",
    "\n",
    "    f = open(filename, \"r\")\n",
    "    lines = f.readlines()\n",
    "\n",
    "    n = int(lines[0])\n",
    "\n",
    "    dist = []\n",
    "    for i in range(n) : \n",
    "        dist.append(list(map(int, lines[i + 2].split())))\n",
    "\n",
    "    flow = []\n",
    "    for i in range(n) :\n",
    "        flow.append(list(map(int, lines[n + 2 + i + 2 - 1].split())))\n",
    "\n",
    "    return n, np.array(dist), np.array(flow)\n"
   ]
  },
  {
   "cell_type": "markdown",
   "metadata": {},
   "source": [
    "# Simulated Annealing"
   ]
  },
  {
   "cell_type": "code",
   "execution_count": 14,
   "metadata": {},
   "outputs": [],
   "source": [
    "def Energy(sol) : \n",
    "    global dist, flow\n",
    "    return np.sum(flow * dist[np.ix_(sol,sol)])"
   ]
  },
  {
   "cell_type": "code",
   "execution_count": 17,
   "metadata": {},
   "outputs": [],
   "source": [
    "def perturbation(sol) : \n",
    "    new_sol = sol.copy()\n",
    "    i = random.randrange(len(sol))\n",
    "    j = random.randrange(len(sol))\n",
    "\n",
    "    new_sol[i], new_sol[j] = new_sol[j], new_sol[i]\n",
    "    return new_sol"
   ]
  },
  {
   "cell_type": "code",
   "execution_count": 30,
   "metadata": {},
   "outputs": [],
   "source": [
    "def acceptance(delta_E, T) : \n",
    "    if(delta_E < 0) : \n",
    "        return True\n",
    "    \n",
    "    r = random.random()\n",
    "    if(r < np.exp(-delta_E/T)) : \n",
    "        return True\n",
    "\n",
    "    return False"
   ]
  },
  {
   "cell_type": "code",
   "execution_count": 133,
   "metadata": {},
   "outputs": [],
   "source": [
    "def SA(n, dist, flow, epoch = 100, alpha = 0.99, Tmax = 10000, Tmin = 0.001) : \n",
    "    bst = 5000000\n",
    "    bst_sol = np.random.permutation(n)\n",
    "\n",
    "    for _ in range(epoch) : \n",
    "        T = Tmax\n",
    "        sol = np.random.permutation(n)\n",
    "        E = Energy(sol)\n",
    "\n",
    "        while(T > Tmin) :\n",
    "            sol_new = perturbation(sol)\n",
    "            E_new = Energy(sol_new)\n",
    "\n",
    "            delta_E = E_new - E\n",
    "\n",
    "            if(acceptance(delta_E, T)) : \n",
    "                sol = sol_new\n",
    "                E = E_new\n",
    "            \n",
    "            T *= alpha\n",
    "        \n",
    "        if(E < bst) : \n",
    "            bst = E\n",
    "            bst_sol = sol\n",
    "            \n",
    "    return (bst, bst_sol)"
   ]
  },
  {
   "cell_type": "markdown",
   "metadata": {},
   "source": [
    "# 1. chr12a"
   ]
  },
  {
   "cell_type": "code",
   "execution_count": 124,
   "metadata": {},
   "outputs": [],
   "source": [
    "n, dist, flow = load_data(\"chr12a.dat\")"
   ]
  },
  {
   "cell_type": "code",
   "execution_count": 125,
   "metadata": {},
   "outputs": [
    {
     "name": "stdout",
     "output_type": "stream",
     "text": [
      "12\n",
      "[[ 0 90 10 23 43  0  0  0  0  0  0  0]\n",
      " [90  0  0  0  0 88  0  0  0  0  0  0]\n",
      " [10  0  0  0  0  0 26 16  0  0  0  0]\n",
      " [23  0  0  0  0  0  0  0  0  0  0  0]\n",
      " [43  0  0  0  0  0  0  0  0  0  0  0]\n",
      " [ 0 88  0  0  0  0  0  0  1  0  0  0]\n",
      " [ 0  0 26  0  0  0  0  0  0  0  0  0]\n",
      " [ 0  0 16  0  0  0  0  0  0 96  0  0]\n",
      " [ 0  0  0  0  0  1  0  0  0  0 29  0]\n",
      " [ 0  0  0  0  0  0  0 96  0  0  0 37]\n",
      " [ 0  0  0  0  0  0  0  0 29  0  0  0]\n",
      " [ 0  0  0  0  0  0  0  0  0 37  0  0]]\n",
      "[[ 0 36 54 26 59 72  9 34 79 17 46 95]\n",
      " [36  0 73 35 90 58 30 78 35 44 79 36]\n",
      " [54 73  0 21 10 97 58 66 69 61 54 63]\n",
      " [26 35 21  0 93 12 46 40 37 48 68 85]\n",
      " [59 90 10 93  0 64  5 29 76 16  5 76]\n",
      " [72 58 97 12 64  0 96 55 38 54  0 34]\n",
      " [ 9 30 58 46  5 96  0 83 35 11 56 37]\n",
      " [34 78 66 40 29 55 83  0 44 12 15 80]\n",
      " [79 35 69 37 76 38 35 44  0 64 39 33]\n",
      " [17 44 61 48 16 54 11 12 64  0 70 86]\n",
      " [46 79 54 68  5  0 56 15 39 70  0 18]\n",
      " [95 36 63 85 76 34 37 80 33 86 18  0]]\n"
     ]
    }
   ],
   "source": [
    "print(n)\n",
    "print(dist)\n",
    "print(flow)"
   ]
  },
  {
   "cell_type": "code",
   "execution_count": 123,
   "metadata": {},
   "outputs": [
    {
     "data": {
      "text/plain": [
       "(9552, array([ 4,  3,  5, 11,  1,  9,  0, 10,  6,  8,  7,  2]))"
      ]
     },
     "execution_count": 123,
     "metadata": {},
     "output_type": "execute_result"
    }
   ],
   "source": [
    "SA(n, dist, flow)"
   ]
  },
  {
   "cell_type": "markdown",
   "metadata": {},
   "source": [
    "# 2. esc32a"
   ]
  },
  {
   "cell_type": "code",
   "execution_count": 126,
   "metadata": {},
   "outputs": [],
   "source": [
    "n, dist, flow = load_data(\"esc32a.dat\")"
   ]
  },
  {
   "cell_type": "code",
   "execution_count": 127,
   "metadata": {},
   "outputs": [
    {
     "data": {
      "text/plain": [
       "(144,\n",
       " array([13, 20,  9, 23, 14, 17, 21, 18, 31, 22,  6, 15,  8,  7, 24, 26,  1,\n",
       "        30,  0, 28,  2, 19, 12, 10,  4, 29, 11, 25,  3, 27,  5, 16]))"
      ]
     },
     "execution_count": 127,
     "metadata": {},
     "output_type": "execute_result"
    }
   ],
   "source": [
    "SA(n, dist, flow)"
   ]
  },
  {
   "cell_type": "markdown",
   "metadata": {},
   "source": [
    "# 3. nug20"
   ]
  },
  {
   "cell_type": "code",
   "execution_count": 135,
   "metadata": {},
   "outputs": [],
   "source": [
    "n, dist, flow = load_data(\"nug20.dat\")"
   ]
  },
  {
   "cell_type": "code",
   "execution_count": 136,
   "metadata": {},
   "outputs": [
    {
     "data": {
      "text/plain": [
       "(2580,\n",
       " array([ 1, 18, 16,  9,  6,  0,  2,  8, 15, 11,  7, 12,  5, 17, 13, 10,  4,\n",
       "        19, 14,  3]))"
      ]
     },
     "execution_count": 136,
     "metadata": {},
     "output_type": "execute_result"
    }
   ],
   "source": [
    "SA(n, dist, flow)"
   ]
  },
  {
   "cell_type": "markdown",
   "metadata": {},
   "source": [
    "# 4. tai30a"
   ]
  },
  {
   "cell_type": "code",
   "execution_count": 137,
   "metadata": {},
   "outputs": [],
   "source": [
    "n, dist, flow = load_data(\"tai30a.dat\")"
   ]
  },
  {
   "cell_type": "code",
   "execution_count": 138,
   "metadata": {},
   "outputs": [
    {
     "data": {
      "text/plain": [
       "(1859256,\n",
       " array([19,  2, 17,  7, 25, 15,  9,  1, 29, 16, 10, 24, 22,  3, 14, 28, 27,\n",
       "        23, 11, 13,  8, 20,  5, 21,  4,  6, 18, 12, 26,  0]))"
      ]
     },
     "execution_count": 138,
     "metadata": {},
     "output_type": "execute_result"
    }
   ],
   "source": [
    "SA(n, dist, flow)"
   ]
  },
  {
   "cell_type": "markdown",
   "metadata": {},
   "source": [
    "# 5. lipa50a"
   ]
  },
  {
   "cell_type": "code",
   "execution_count": 140,
   "metadata": {},
   "outputs": [],
   "source": [
    "n, dist, flow = load_data(\"lipa50a.dat\")"
   ]
  },
  {
   "cell_type": "code",
   "execution_count": 141,
   "metadata": {},
   "outputs": [
    {
     "data": {
      "text/plain": [
       "(62914,\n",
       " array([23, 33,  2, 45, 43, 47,  8, 13, 40,  4, 21, 35,  0, 31, 11, 20, 39,\n",
       "        44, 18, 30,  3,  6, 15,  9, 26, 41, 37,  7, 10, 49, 48, 12, 42, 14,\n",
       "        27, 22, 32,  5, 46,  1, 28, 25, 17, 29, 34, 16, 36, 38, 19, 24]))"
      ]
     },
     "execution_count": 141,
     "metadata": {},
     "output_type": "execute_result"
    }
   ],
   "source": [
    "SA(n, dist, flow)"
   ]
  }
 ],
 "metadata": {
  "kernelspec": {
   "display_name": "myenv",
   "language": "python",
   "name": "python3"
  },
  "language_info": {
   "codemirror_mode": {
    "name": "ipython",
    "version": 3
   },
   "file_extension": ".py",
   "mimetype": "text/x-python",
   "name": "python",
   "nbconvert_exporter": "python",
   "pygments_lexer": "ipython3",
   "version": "3.12.1"
  }
 },
 "nbformat": 4,
 "nbformat_minor": 2
}
