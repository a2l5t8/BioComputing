{
 "cells": [
  {
   "cell_type": "markdown",
   "metadata": {},
   "source": [
    "# Setup"
   ]
  },
  {
   "cell_type": "code",
   "execution_count": 1,
   "metadata": {},
   "outputs": [],
   "source": [
    "import random\n",
    "import numpy as np\n",
    "import pandas as pd\n",
    "from matplotlib import pyplot as plt"
   ]
  },
  {
   "cell_type": "markdown",
   "metadata": {},
   "source": [
    "# Loading Data"
   ]
  },
  {
   "cell_type": "code",
   "execution_count": 26,
   "metadata": {},
   "outputs": [],
   "source": [
    "def ProcessInput(inp) : \n",
    "    f = open(inp, \"r\")\n",
    "    ptr = 0\n",
    "    data = f.read()\n",
    "    data = list(map(int, data.split()))\n",
    "    \n",
    "    n, m = data[0], data[1]\n",
    "    ptr += 2\n",
    "\n",
    "    cost = [0]\n",
    "    sets = []\n",
    "    for i in range(m) : \n",
    "        cost.append(data[ptr])    \n",
    "        sets.append([])\n",
    "        ptr += 1\n",
    "\n",
    "    sets.append([])\n",
    "\n",
    "    cover = []\n",
    "    for i in range(n) : \n",
    "        sz = data[ptr]\n",
    "        ptr += 1\n",
    "        cover.append([])\n",
    "        for j in range(sz) : \n",
    "            cover[i].append(data[ptr])\n",
    "            sets[data[ptr]].append(i)\n",
    "            ptr += 1\n",
    "\n",
    "\n",
    "    cards = []\n",
    "    for i in range(len(sets)) : \n",
    "        cards.append(len(sets[i]))\n",
    "\n",
    "    return n, m, cost, cover, sets, cards"
   ]
  },
  {
   "cell_type": "code",
   "execution_count": 3,
   "metadata": {},
   "outputs": [
    {
     "name": "stdout",
     "output_type": "stream",
     "text": [
      "200 1000\n",
      "1001 0 100\n",
      "200 17 [91, 214, 230, 289, 351, 416, 488, 491, 518, 567, 720, 721, 735, 753, 768, 928, 990]\n",
      "1001\n",
      "[17, 31, 74, 75, 106, 189, 195, 198]\n",
      "8\n"
     ]
    }
   ],
   "source": [
    "n, m, cost, cover, sets, cards = ProcessInput(\"scp41.txt\")\n",
    "print(n, m)\n",
    "print(len(cost), cost[0], cost[-1])\n",
    "print(len(cover), len(cover[0]), cover[0])\n",
    "print(len(sets))\n",
    "print(sets[1])\n",
    "print(cards[1])"
   ]
  },
  {
   "cell_type": "markdown",
   "metadata": {},
   "source": [
    "# Min-Max Ant System"
   ]
  },
  {
   "cell_type": "code",
   "execution_count": 166,
   "metadata": {},
   "outputs": [],
   "source": [
    "class Ant() :\n",
    "\n",
    "    def __init__(self, n, m, alpha, beta) : \n",
    "        self.alpha = alpha\n",
    "        self.beta = beta\n",
    "\n",
    "        self.n = n\n",
    "        self.m = m\n",
    "\n",
    "        self.sol = []\n",
    "        self.coverage = set()\n",
    "        self.fitness = 1e9\n",
    "\n",
    "    def cal_fitness(self, cost) :\n",
    "        res = 0\n",
    "        for i in range(len(self.sol)) : \n",
    "            res += cost[self.sol[i]]\n",
    "\n",
    "        self.fitness = res\n",
    "\n",
    "    def H(self, i) :             \n",
    "        return len(set(sets[i]).difference(self.coverage))\n",
    "\n",
    "    def transition(self, phermone, cost, sets) :\n",
    "        prob = [0]\n",
    "        sm = 0\n",
    "        for i in range(1, self.m + 1) : \n",
    "            prob.append(0)\n",
    "            if(not i in self.sol) : \n",
    "                val = (phermone[i]**self.alpha) * ((self.H(i)/cost[i])**self.beta)\n",
    "                sm += val\n",
    "                prob[i] = val\n",
    "        \n",
    "        for i in range(1, self.m + 1) : \n",
    "            prob[i] /= sm\n",
    "\n",
    "        nxt = random.choices([i for i in range(self.m + 1)], weights = prob, k = 1)[0]\n",
    "        self.add_sol(nxt)\n",
    "        \n",
    "    def add_sol(self, nxt) :\n",
    "        self.sol.append(nxt)\n",
    "        self.coverage.update(sets[nxt])\n",
    "\n",
    "    def update_phermone(self, phermone) : \n",
    "        for i in self.sol : \n",
    "            phermone[i] += 2/self.fitness\n",
    "\n",
    "    def find_sol(self, phermone, cost, sets) : \n",
    "        while(not self.check_sol()) : \n",
    "            self.transition(phermone, cost, sets)\n",
    "        self.cal_fitness(cost)\n",
    "\n",
    "    def check_sol(self) : \n",
    "        return (len(self.coverage) == n)\n",
    "\n",
    "    def max_cost(self) :\n",
    "        res = 0\n",
    "        for i in range(len(self.sol)) : \n",
    "            res = max(res, cost[self.sol[i]])\n",
    "        return res\n",
    "\n",
    "    def local_search(self, cost, p1 = 0.15, p2 = 1.1) : \n",
    "        N_s = len(self.sol)\n",
    "        Q_s = self.max_cost()\n",
    "        # W_i = cover[i]\n",
    "\n",
    "        D = int(p1 * N_s)\n",
    "        E = p2 * Q_s\n",
    "\n",
    "        prev_sol = self.sol.copy()\n",
    "        cands = [i for i in self.sol if i not in (random.sample(self.sol, D))]\n",
    "\n",
    "        self.sol = []\n",
    "        self.coverage = set()\n",
    "        for i in cands : \n",
    "            self.add_sol(i)\n",
    "        self.cal_fitness(cost)\n",
    "\n",
    "        while(not self.check_sol()) : \n",
    "            recs = [i for i in range(1, len(cost)) if (cost[i] <= E and i not in self.sol)]\n",
    "            bst_rec = 0\n",
    "            for i in recs :\n",
    "                rate = self.H(i)/cost[i]\n",
    "                bst_rec = max(bst_rec, rate)\n",
    "            \n",
    "            ops = [i for i in recs if self.H(i)/cost[i] == bst_rec]\n",
    "            k = random.sample(ops, 1)[0]\n",
    "            self.add_sol(k)\n",
    "        \n",
    "        self.cal_fitness(cost)\n",
    "\n",
    "    def diversification(self, NC_MAX = 0.001) : \n",
    "        base = random.sample([i for i in range(1, m + 1)], int(NC_MAX * m))\n",
    "        for i in base : \n",
    "            self.add_sol(i)"
   ]
  },
  {
   "cell_type": "code",
   "execution_count": 178,
   "metadata": {},
   "outputs": [],
   "source": [
    "def MMAS(sz, iteration, n, m, cost, sets, alpha, beta, phi, MIN = 0.0002, MAX = 0.3, log = True) :\n",
    "    phermone = [0]\n",
    "    for i in range(1, m + 1) : \n",
    "        phermone.append(random.random()/10)\n",
    "\n",
    "    bst = []\n",
    "\n",
    "    for _ in range(1, iteration + 1) : \n",
    "        local_bst = 1e9\n",
    "        bst_idx = -1\n",
    "\n",
    "        ants = [Ant(n, m, alpha, beta) for i in range(sz)]\n",
    "        for ant in ants : \n",
    "            ant.diversification()\n",
    "            ant.find_sol(phermone, cost, sets)\n",
    "\n",
    "        \n",
    "        ################################################################################\n",
    "        ## Local Search\n",
    "        ################################################################################\n",
    "        \n",
    "        if(_ <= iteration) :\n",
    "            for ant in ants : \n",
    "                ant.local_search(cost)\n",
    "        \n",
    "        for i in range(1, m + 1) : \n",
    "            phermone[i] *= (1 - phi)\n",
    "            \n",
    "        \n",
    "        \n",
    "        for i in range(len(ants)) :\n",
    "            ants[i].cal_fitness(cost)\n",
    "            if(local_bst > ants[i].fitness) : \n",
    "                local_bst = ants[i].fitness\n",
    "                bst_idx = i\n",
    "            \n",
    "        ################################################################################\n",
    "        ## ANT COLONY \n",
    "        ################################################################################\n",
    "        \n",
    "        # for ant in ants : \n",
    "        #     ant.update_phermone(phermone)\n",
    "\n",
    "        ################################################################################\n",
    "        ## MMAS\n",
    "        ################################################################################\n",
    "\n",
    "        ants[bst_idx].update_phermone(phermone)\n",
    "\n",
    "        for i in range(1, m + 1) : \n",
    "            phermone[i] = min(phermone[i], MAX)\n",
    "            phermone[i] = max(phermone[i], MIN)\n",
    "        \n",
    "        if(log) : \n",
    "            print(\"iteration {} : {}\".format(_, local_bst))\n",
    "\n",
    "        bst.append(local_bst)\n",
    "\n",
    "        \n",
    "    if(log) : \n",
    "        print(max(phermone[1:]), min(phermone[1:]))\n",
    "        \n",
    "    return bst"
   ]
  },
  {
   "cell_type": "markdown",
   "metadata": {},
   "source": [
    "# Testcases"
   ]
  },
  {
   "cell_type": "markdown",
   "metadata": {},
   "source": [
    "## #1 scp41"
   ]
  },
  {
   "cell_type": "code",
   "execution_count": 172,
   "metadata": {},
   "outputs": [],
   "source": [
    "n, m, cost, cover, sets, cards = ProcessInput(\"scp41.txt\")"
   ]
  },
  {
   "cell_type": "code",
   "execution_count": 179,
   "metadata": {},
   "outputs": [
    {
     "name": "stdout",
     "output_type": "stream",
     "text": [
      "Average score : 4438, Best Score : 439\n"
     ]
    }
   ],
   "source": [
    "ave = 0\n",
    "bst = 1e9\n",
    "for _ in range(10) : \n",
    "    rec = MMAS(sz = 15,iteration = 15, n = n, m = m, cost = cost, sets = sets, alpha = 1, beta = 6, phi = 0.6, log = False)\n",
    "    ave += min(rec)\n",
    "    bst = min(bst, min(rec))\n",
    "\n",
    "print(\"Average score : {}, Best Score : {}\".format(ave, bst))"
   ]
  },
  {
   "cell_type": "markdown",
   "metadata": {},
   "source": [
    "## #2 scp51"
   ]
  },
  {
   "cell_type": "code",
   "execution_count": 182,
   "metadata": {},
   "outputs": [],
   "source": [
    "n, m, cost, cover, sets, cards = ProcessInput(\"scp51.txt\")"
   ]
  },
  {
   "cell_type": "code",
   "execution_count": 183,
   "metadata": {},
   "outputs": [
    {
     "name": "stdout",
     "output_type": "stream",
     "text": [
      "Average score : 280.1, Best Score : 276\n"
     ]
    }
   ],
   "source": [
    "ave = 0\n",
    "bst = 1e9\n",
    "for _ in range(10) : \n",
    "    rec = MMAS(sz = 15,iteration = 15, n = n, m = m, cost = cost, sets = sets, alpha = 1, beta = 6, phi = 0.6, log = False)\n",
    "    ave += min(rec)\n",
    "    bst = min(bst, min(rec))\n",
    "\n",
    "print(\"Average score : {}, Best Score : {}\".format(ave/10, bst))"
   ]
  },
  {
   "cell_type": "markdown",
   "metadata": {},
   "source": [
    "## #3 scp54"
   ]
  },
  {
   "cell_type": "code",
   "execution_count": 184,
   "metadata": {},
   "outputs": [],
   "source": [
    "n, m, cost, cover, sets, cards = ProcessInput(\"scp54.txt\")"
   ]
  },
  {
   "cell_type": "code",
   "execution_count": 185,
   "metadata": {},
   "outputs": [
    {
     "name": "stdout",
     "output_type": "stream",
     "text": [
      "Average score : 257.5, Best Score : 251\n"
     ]
    }
   ],
   "source": [
    "ave = 0\n",
    "bst = 1e9\n",
    "for _ in range(10) : \n",
    "    rec = MMAS(sz = 15,iteration = 15, n = n, m = m, cost = cost, sets = sets, alpha = 1, beta = 6, phi = 0.6, log = False)\n",
    "    ave += min(rec)\n",
    "    bst = min(bst, min(rec))\n",
    "\n",
    "print(\"Average score : {}, Best Score : {}\".format(ave/10, bst))"
   ]
  },
  {
   "cell_type": "markdown",
   "metadata": {},
   "source": [
    "## #4 scpA2"
   ]
  },
  {
   "cell_type": "code",
   "execution_count": 186,
   "metadata": {},
   "outputs": [],
   "source": [
    "n, m, cost, cover, sets, cards = ProcessInput(\"scpa2.txt\")"
   ]
  },
  {
   "cell_type": "code",
   "execution_count": 187,
   "metadata": {},
   "outputs": [
    {
     "name": "stdout",
     "output_type": "stream",
     "text": [
      "Average score : 281.2, Best Score : 268\n"
     ]
    }
   ],
   "source": [
    "ave = 0\n",
    "bst = 1e9\n",
    "for _ in range(10) : \n",
    "    rec = MMAS(sz = 15,iteration = 15, n = n, m = m, cost = cost, sets = sets, alpha = 1, beta = 6, phi = 0.6, log = False)\n",
    "    ave += min(rec)\n",
    "    bst = min(bst, min(rec))\n",
    "\n",
    "print(\"Average score : {}, Best Score : {}\".format(ave/10, bst))"
   ]
  },
  {
   "cell_type": "markdown",
   "metadata": {},
   "source": [
    "# "
   ]
  },
  {
   "cell_type": "markdown",
   "metadata": {},
   "source": [
    "## #5 scpB1"
   ]
  },
  {
   "cell_type": "code",
   "execution_count": 188,
   "metadata": {},
   "outputs": [],
   "source": [
    "n, m, cost, cover, sets, cards = ProcessInput(\"scpb1.txt\")"
   ]
  },
  {
   "cell_type": "code",
   "execution_count": 189,
   "metadata": {},
   "outputs": [
    {
     "name": "stdout",
     "output_type": "stream",
     "text": [
      "Average score : 78.3, Best Score : 73\n"
     ]
    }
   ],
   "source": [
    "ave = 0\n",
    "bst = 1e9\n",
    "for _ in range(10) : \n",
    "    rec = MMAS(sz = 15,iteration = 15, n = n, m = m, cost = cost, sets = sets, alpha = 1, beta = 6, phi = 0.6, log = False)\n",
    "    ave += min(rec)\n",
    "    bst = min(bst, min(rec))\n",
    "\n",
    "print(\"Average score : {}, Best Score : {}\".format(ave/10, bst))"
   ]
  },
  {
   "cell_type": "code",
   "execution_count": null,
   "metadata": {},
   "outputs": [],
   "source": []
  }
 ],
 "metadata": {
  "kernelspec": {
   "display_name": "myenv",
   "language": "python",
   "name": "python3"
  },
  "language_info": {
   "codemirror_mode": {
    "name": "ipython",
    "version": 3
   },
   "file_extension": ".py",
   "mimetype": "text/x-python",
   "name": "python",
   "nbconvert_exporter": "python",
   "pygments_lexer": "ipython3",
   "version": "3.12.1"
  }
 },
 "nbformat": 4,
 "nbformat_minor": 2
}
