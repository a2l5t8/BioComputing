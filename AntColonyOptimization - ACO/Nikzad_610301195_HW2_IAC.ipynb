{
 "cells": [
  {
   "cell_type": "markdown",
   "metadata": {},
   "source": [
    "# Setup"
   ]
  },
  {
   "cell_type": "code",
   "execution_count": 1,
   "metadata": {},
   "outputs": [],
   "source": [
    "import random\n",
    "import numpy as np\n",
    "import pandas as pd\n",
    "from matplotlib import pyplot as plt"
   ]
  },
  {
   "cell_type": "markdown",
   "metadata": {},
   "source": [
    "# Loading Data"
   ]
  },
  {
   "cell_type": "code",
   "execution_count": 2,
   "metadata": {},
   "outputs": [],
   "source": [
    "data = pd.ExcelFile(\"Supply-chain-logisitcs-problem.xlsx\")\n",
    "OrderList = pd.read_excel(data, sheet_name = \"OrderList\")\n",
    "FreightRates = pd.read_excel(data, sheet_name = \"FreightRates\")\n",
    "WhCosts = pd.read_excel(data, sheet_name = \"WhCosts\")\n",
    "WhCapacities = pd.read_excel(data, sheet_name = \"WhCapacities\")\n",
    "ProductsPerPlant = pd.read_excel(data, sheet_name = \"ProductsPerPlant\")\n",
    "VmiCustomers = pd.read_excel(data, sheet_name = \"VmiCustomers\")\n",
    "PlantPorts = pd.read_excel(data, sheet_name = \"PlantPorts\")"
   ]
  },
  {
   "cell_type": "code",
   "execution_count": 3,
   "metadata": {},
   "outputs": [
    {
     "data": {
      "text/html": [
       "<div>\n",
       "<style scoped>\n",
       "    .dataframe tbody tr th:only-of-type {\n",
       "        vertical-align: middle;\n",
       "    }\n",
       "\n",
       "    .dataframe tbody tr th {\n",
       "        vertical-align: top;\n",
       "    }\n",
       "\n",
       "    .dataframe thead th {\n",
       "        text-align: right;\n",
       "    }\n",
       "</style>\n",
       "<table border=\"1\" class=\"dataframe\">\n",
       "  <thead>\n",
       "    <tr style=\"text-align: right;\">\n",
       "      <th></th>\n",
       "      <th>Order ID</th>\n",
       "      <th>Order Date</th>\n",
       "      <th>Origin Port</th>\n",
       "      <th>Carrier</th>\n",
       "      <th>TPT</th>\n",
       "      <th>Service Level</th>\n",
       "      <th>Ship ahead day count</th>\n",
       "      <th>Ship Late Day count</th>\n",
       "      <th>Customer</th>\n",
       "      <th>Product ID</th>\n",
       "      <th>Plant Code</th>\n",
       "      <th>Destination Port</th>\n",
       "      <th>Unit quantity</th>\n",
       "      <th>Weight</th>\n",
       "    </tr>\n",
       "  </thead>\n",
       "  <tbody>\n",
       "    <tr>\n",
       "      <th>0</th>\n",
       "      <td>1.447296e+09</td>\n",
       "      <td>2013-05-26</td>\n",
       "      <td>PORT09</td>\n",
       "      <td>V44_3</td>\n",
       "      <td>1</td>\n",
       "      <td>CRF</td>\n",
       "      <td>3</td>\n",
       "      <td>0</td>\n",
       "      <td>V55555_53</td>\n",
       "      <td>1700106</td>\n",
       "      <td>PLANT16</td>\n",
       "      <td>PORT09</td>\n",
       "      <td>808</td>\n",
       "      <td>14.30</td>\n",
       "    </tr>\n",
       "    <tr>\n",
       "      <th>1</th>\n",
       "      <td>1.447158e+09</td>\n",
       "      <td>2013-05-26</td>\n",
       "      <td>PORT09</td>\n",
       "      <td>V44_3</td>\n",
       "      <td>1</td>\n",
       "      <td>CRF</td>\n",
       "      <td>3</td>\n",
       "      <td>0</td>\n",
       "      <td>V55555_53</td>\n",
       "      <td>1700106</td>\n",
       "      <td>PLANT16</td>\n",
       "      <td>PORT09</td>\n",
       "      <td>3188</td>\n",
       "      <td>87.94</td>\n",
       "    </tr>\n",
       "    <tr>\n",
       "      <th>2</th>\n",
       "      <td>1.447139e+09</td>\n",
       "      <td>2013-05-26</td>\n",
       "      <td>PORT09</td>\n",
       "      <td>V44_3</td>\n",
       "      <td>1</td>\n",
       "      <td>CRF</td>\n",
       "      <td>3</td>\n",
       "      <td>0</td>\n",
       "      <td>V55555_53</td>\n",
       "      <td>1700106</td>\n",
       "      <td>PLANT16</td>\n",
       "      <td>PORT09</td>\n",
       "      <td>2331</td>\n",
       "      <td>61.20</td>\n",
       "    </tr>\n",
       "    <tr>\n",
       "      <th>3</th>\n",
       "      <td>1.447364e+09</td>\n",
       "      <td>2013-05-26</td>\n",
       "      <td>PORT09</td>\n",
       "      <td>V44_3</td>\n",
       "      <td>1</td>\n",
       "      <td>CRF</td>\n",
       "      <td>3</td>\n",
       "      <td>0</td>\n",
       "      <td>V55555_53</td>\n",
       "      <td>1700106</td>\n",
       "      <td>PLANT16</td>\n",
       "      <td>PORT09</td>\n",
       "      <td>847</td>\n",
       "      <td>16.16</td>\n",
       "    </tr>\n",
       "    <tr>\n",
       "      <th>4</th>\n",
       "      <td>1.447364e+09</td>\n",
       "      <td>2013-05-26</td>\n",
       "      <td>PORT09</td>\n",
       "      <td>V44_3</td>\n",
       "      <td>1</td>\n",
       "      <td>CRF</td>\n",
       "      <td>3</td>\n",
       "      <td>0</td>\n",
       "      <td>V55555_53</td>\n",
       "      <td>1700106</td>\n",
       "      <td>PLANT16</td>\n",
       "      <td>PORT09</td>\n",
       "      <td>2163</td>\n",
       "      <td>52.34</td>\n",
       "    </tr>\n",
       "  </tbody>\n",
       "</table>\n",
       "</div>"
      ],
      "text/plain": [
       "       Order ID Order Date Origin Port Carrier  TPT Service Level  \\\n",
       "0  1.447296e+09 2013-05-26      PORT09   V44_3    1           CRF   \n",
       "1  1.447158e+09 2013-05-26      PORT09   V44_3    1           CRF   \n",
       "2  1.447139e+09 2013-05-26      PORT09   V44_3    1           CRF   \n",
       "3  1.447364e+09 2013-05-26      PORT09   V44_3    1           CRF   \n",
       "4  1.447364e+09 2013-05-26      PORT09   V44_3    1           CRF   \n",
       "\n",
       "   Ship ahead day count  Ship Late Day count   Customer  Product ID  \\\n",
       "0                     3                    0  V55555_53     1700106   \n",
       "1                     3                    0  V55555_53     1700106   \n",
       "2                     3                    0  V55555_53     1700106   \n",
       "3                     3                    0  V55555_53     1700106   \n",
       "4                     3                    0  V55555_53     1700106   \n",
       "\n",
       "  Plant Code Destination Port  Unit quantity  Weight  \n",
       "0    PLANT16           PORT09            808   14.30  \n",
       "1    PLANT16           PORT09           3188   87.94  \n",
       "2    PLANT16           PORT09           2331   61.20  \n",
       "3    PLANT16           PORT09            847   16.16  \n",
       "4    PLANT16           PORT09           2163   52.34  "
      ]
     },
     "execution_count": 3,
     "metadata": {},
     "output_type": "execute_result"
    }
   ],
   "source": [
    "OrderList.head()"
   ]
  },
  {
   "cell_type": "markdown",
   "metadata": {},
   "source": [
    "# Fitness function"
   ]
  },
  {
   "cell_type": "code",
   "execution_count": 4,
   "metadata": {},
   "outputs": [],
   "source": [
    "class Ant() : \n",
    "\n",
    "    def __init__(self):\n",
    "      self.path = []\n",
    "      self.visited = []\n",
    "      self.fitness = 0\n",
    "\n",
    "    def cal_fitness(self) :\n",
    "        pass\n",
    "\n",
    "    def wc() : \n",
    "      pass\n",
    "\n",
    "      \n",
    "    \n",
    "        "
   ]
  },
  {
   "cell_type": "code",
   "execution_count": 65,
   "metadata": {},
   "outputs": [
    {
     "data": {
      "text/plain": [
       "5    1070\n",
       "Name: Daily Capacity , dtype: int64"
      ]
     },
     "execution_count": 65,
     "metadata": {},
     "output_type": "execute_result"
    }
   ],
   "source": [
    "# WhCapacities[\"Daily Capacity \"][WhCapacities[\"Plant ID\"] == \"PLANT01\"]"
   ]
  },
  {
   "cell_type": "code",
   "execution_count": null,
   "metadata": {},
   "outputs": [],
   "source": []
  }
 ],
 "metadata": {
  "kernelspec": {
   "display_name": "myenv",
   "language": "python",
   "name": "python3"
  },
  "language_info": {
   "codemirror_mode": {
    "name": "ipython",
    "version": 3
   },
   "file_extension": ".py",
   "mimetype": "text/x-python",
   "name": "python",
   "nbconvert_exporter": "python",
   "pygments_lexer": "ipython3",
   "version": "3.12.1"
  }
 },
 "nbformat": 4,
 "nbformat_minor": 2
}
